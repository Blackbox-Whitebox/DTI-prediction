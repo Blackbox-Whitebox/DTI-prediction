{
 "cells": [
  {
   "cell_type": "code",
   "execution_count": 1,
   "id": "4d66888e",
   "metadata": {},
   "outputs": [],
   "source": [
    "import json\n",
    "import pandas as pd"
   ]
  },
  {
   "cell_type": "code",
   "execution_count": 24,
   "id": "4d1b06b9",
   "metadata": {},
   "outputs": [],
   "source": [
    "train_x = json.load(open(\"../data/biosnap/dti_train_x.json\", \"r\"))\n",
    "train_y = json.load(open(\"../data/biosnap/dti_train_y.json\", \"r\"))\n",
    "test_x = json.load(open(\"../data/biosnap/dti_test_x.json\", \"r\"))\n",
    "test_y = json.load(open(\"../data/biosnap/dti_test_y.json\", \"r\"))"
   ]
  },
  {
   "cell_type": "code",
   "execution_count": 25,
   "id": "2bb6b340",
   "metadata": {},
   "outputs": [],
   "source": [
    "train_df = {\"Drug\":[], \"Target\":[], \"Y\":[]}\n",
    "test_df = {\"Drug\":[], \"Target\":[], \"Y\":[]}"
   ]
  },
  {
   "cell_type": "code",
   "execution_count": 26,
   "id": "0802dd4b",
   "metadata": {},
   "outputs": [],
   "source": [
    "id_to_smile = json.load(open(\"../data/databankid_to_smile.json\", \"r\"))\n",
    "id_to_seq = json.load(open(\"../data/uniprotid_to_seq.json\", \"r\"))"
   ]
  },
  {
   "cell_type": "code",
   "execution_count": 27,
   "id": "a605a5df",
   "metadata": {},
   "outputs": [],
   "source": [
    "for idx, el in enumerate(train_x):\n",
    "    drug = el[\"drug\"]\n",
    "    target = el[\"target\"]\n",
    "    \n",
    "    train_df[\"Drug\"].append(id_to_smile[drug])\n",
    "    train_df[\"Target\"].append(id_to_seq[target])\n",
    "    train_df[\"Y\"].append(train_y[idx])"
   ]
  },
  {
   "cell_type": "code",
   "execution_count": 28,
   "id": "2866d633",
   "metadata": {},
   "outputs": [],
   "source": [
    "for idx, el in enumerate(test_x):\n",
    "    drug = el[\"drug\"]\n",
    "    target = el[\"target\"]\n",
    "    \n",
    "    test_df[\"Drug\"].append(id_to_smile[drug])\n",
    "    test_df[\"Target\"].append(id_to_seq[target])\n",
    "    test_df[\"Y\"].append(test_y[idx])"
   ]
  },
  {
   "cell_type": "code",
   "execution_count": 29,
   "id": "8f1522de",
   "metadata": {},
   "outputs": [],
   "source": [
    "train_df = pd.DataFrame(train_df)\n",
    "test_df = pd.DataFrame(test_df)"
   ]
  },
  {
   "cell_type": "code",
   "execution_count": 31,
   "id": "75dc2b4c",
   "metadata": {},
   "outputs": [
    {
     "data": {
      "text/plain": [
       "<Axes: >"
      ]
     },
     "execution_count": 31,
     "metadata": {},
     "output_type": "execute_result"
    },
    {
     "data": {
      "image/png": "[encoded data removed]",
      "text/plain": [
       "<Figure size 640x480 with 1 Axes>"
      ]
     },
     "metadata": {},
     "output_type": "display_data"
    }
   ],
   "source": [
    "train_df[\"Y\"].hist()"
   ]
  },
  {
   "cell_type": "code",
   "execution_count": 33,
   "id": "31fc8fd1",
   "metadata": {},
   "outputs": [],
   "source": [
    "train_df.to_csv(\"biosnap_train.csv\")\n",
    "test_df.to_csv(\"biosnap_test.csv\")"
   ]
  }
 ],
 "metadata": {
  "kernelspec": {
   "display_name": "Python 3 (ipykernel)",
   "language": "python",
   "name": "python3"
  },
  "language_info": {
   "codemirror_mode": {
    "name": "ipython",
    "version": 3
   },
   "file_extension": ".py",
   "mimetype": "text/x-python",
   "name": "python",
   "nbconvert_exporter": "python",
   "pygments_lexer": "ipython3",
   "version": "3.10.12"
  }
 },
 "nbformat": 4,
 "nbformat_minor": 5
}
