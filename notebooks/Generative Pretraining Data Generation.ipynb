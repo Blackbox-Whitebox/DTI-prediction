{
 "cells": [
  {
   "cell_type": "markdown",
   "id": "2f594a3b",
   "metadata": {},
   "source": [
    "# Goals\n",
    "- Download needed data needed for performing generative pretraining step"
   ]
  },
  {
   "cell_type": "code",
   "execution_count": 1,
   "id": "c4afc1cc",
   "metadata": {},
   "outputs": [],
   "source": [
    "import os\n",
    "import json\n",
    "import requests\n",
    "import pandas as pd\n",
    "from tqdm import tqdm"
   ]
  },
  {
   "cell_type": "code",
   "execution_count": 2,
   "id": "ac3dbdea",
   "metadata": {},
   "outputs": [],
   "source": [
    "def get_smile_from_drugbank(db_id):\n",
    "    result = requests.get(f\"https://go.drugbank.com/structures/small_molecule_drugs/{db_id}.smiles\").content.decode()\n",
    "    return result\n",
    "\n",
    "def get_gene_sequence_from_uniprot(ut_id):\n",
    "    result = requests.get(f\"https://rest.uniprot.org/uniprotkb/{ut_id}.fasta\").content.decode()\n",
    "    # remove first line\n",
    "    result = \"\".join(result.split(\"\\n\")[1:])\n",
    "    return result"
   ]
  },
  {
   "cell_type": "code",
   "execution_count": 3,
   "id": "b03d1004",
   "metadata": {},
   "outputs": [],
   "source": [
    "df = pd.read_csv(\"../data/ChG-Miner_miner-chem-gene.tsv\", sep=\"\\t\")"
   ]
  },
  {
   "cell_type": "code",
   "execution_count": 4,
   "id": "a827267e",
   "metadata": {},
   "outputs": [
    {
     "data": {
      "text/plain": [
       "'CCC1(CCC(=O)NC1=O)C1=CC=C(N)C=C1'"
      ]
     },
     "execution_count": 4,
     "metadata": {},
     "output_type": "execute_result"
    }
   ],
   "source": [
    "get_smile_from_drugbank(\"DB00357\")"
   ]
  },
  {
   "cell_type": "code",
   "execution_count": 5,
   "id": "480e85d7",
   "metadata": {},
   "outputs": [
    {
     "data": {
      "text/plain": [
       "'MSRSLLLWFLLFLLLLPPLPVLLADPGAPTPVNPCCYYPCQHQGICVRFGLDRYQCDCTRTGYSGPNCTIPGLWTWLRNSLRPSPSFTHFLLTHGRWFWEFVNATFIREMLMRLVLTVRSNLIPSPPTYNSAHDYISWESFSNVSYYTRILPSVPKDCPTPMGTKGKKQLPDAQLLARRFLLRRKFIPDPQGTNLMFAFFAQHFTHQFFKTSGKMGPGFTKALGHGVDLGHIYGDNLERQYQLRLFKDGKLKYQVLDGEMYPPSVEEAPVLMHYPRGIPPQSQMAVGQEVFGLLPGLMLYATLWLREHNRVCDLLKAEHPTWGDEQLFQTTRLILIGETIKIVIEEYVQQLSGYFLQLKFDPELLFGVQFQYRNRIAMEFNHLYHWHPLMPDSFKVGSQEYSYEQFLFNTSMLVDYGVEALVDAFSRQIAGRIGGGRNMDHHILHVAVDVIRESREMRLQPFNEYRKRFGMKPYTSFQELVGEKEMAAELEELYGDIDALEFYPGLLLEKCHPNSIFGESMIEIGAPFSLKGLLGNPICSPEYWKPSTFGGEVGFNIVKTATLKKLVCLNTKTCPYVSFRVPDASQDDGPAVERPSTEL'"
      ]
     },
     "execution_count": 5,
     "metadata": {},
     "output_type": "execute_result"
    }
   ],
   "source": [
    "get_gene_sequence_from_uniprot(\"P23219\")"
   ]
  },
  {
   "cell_type": "code",
   "execution_count": 6,
   "id": "f26a06d6",
   "metadata": {},
   "outputs": [],
   "source": [
    "drugs = df[\"#Drug\"].unique() \n",
    "genes = df[\"Gene\"].unique()"
   ]
  },
  {
   "cell_type": "code",
   "execution_count": 7,
   "id": "680f486b",
   "metadata": {},
   "outputs": [
    {
     "name": "stdout",
     "output_type": "stream",
     "text": [
      "There are 5018 drugs\n",
      "There are 2325 targets\n"
     ]
    }
   ],
   "source": [
    "print(f\"There are {len(drugs)} drugs\")\n",
    "print(f\"There are {len(genes)} targets\")"
   ]
  },
  {
   "cell_type": "code",
   "execution_count": 8,
   "id": "aaaf04a9",
   "metadata": {},
   "outputs": [],
   "source": [
    "drugs = drugs.tolist()\n",
    "genes = genes.tolist()"
   ]
  },
  {
   "cell_type": "code",
   "execution_count": null,
   "id": "4dd3a284",
   "metadata": {},
   "outputs": [],
   "source": [
    "db_id_to_smile = {}\n",
    "ut_id_to_seq = {}"
   ]
  },
  {
   "cell_type": "code",
   "execution_count": null,
   "id": "e4a07562",
   "metadata": {},
   "outputs": [],
   "source": [
    "print(\"Downloading SMILEs for drug id's in dataset\")\n",
    "\n",
    "for drug_id in tqdm(drugs):\n",
    "    db_id_to_smile[drug_id] = get_smile_from_drugbank(drug_id)\n",
    "\n",
    "print(\"Downloading Gene Sequence for protein id's in dataset\")\n",
    "\n",
    "for uniprot_id in tqdm(genes):\n",
    "    ut_id_to_seq[uniprot_id] = get_gene_sequence_from_uniprot(uniprot_id)"
   ]
  },
  {
   "cell_type": "code",
   "execution_count": null,
   "id": "92d827eb",
   "metadata": {},
   "outputs": [],
   "source": [
    "tokens = []\n",
    "for key in db_id_to_smile.keys():\n",
    "    for t in list(set(db_id_to_smile[key])):\n",
    "        if t in [\"!\", \"\\n\"]:\n",
    "            print(key)s\n",
    "        if t not in tokens:\n",
    "            tokens.append(t)\n",
    "print(len(tokens))"
   ]
  },
  {
   "cell_type": "code",
   "execution_count": null,
   "id": "bfca4e0c",
   "metadata": {},
   "outputs": [],
   "source": [
    "tokens = []\n",
    "for key in ut_id_to_seq.keys():\n",
    "    for t in list(set(ut_id_to_seq[key])):\n",
    "        if t in [\"!\", \"\\n\"]:\n",
    "            print(key)\n",
    "        if t not in tokens:\n",
    "            tokens.append(t)\n",
    "print(len(tokens))"
   ]
  },
  {
   "cell_type": "code",
   "execution_count": null,
   "id": "767c95b7",
   "metadata": {},
   "outputs": [],
   "source": [
    "sorted(tokens)"
   ]
  },
  {
   "cell_type": "code",
   "execution_count": null,
   "id": "cb5a76ed",
   "metadata": {},
   "outputs": [],
   "source": [
    "json.dump(db_id_to_smile, open(\"../data/databankid_to_smile.json\", \"w\"))\n",
    "json.dump(ut_id_to_seq, open(\"../data/uniprotid_to_seq.json\", \"w\"))"
   ]
  },
  {
   "cell_type": "code",
   "execution_count": null,
   "id": "eca17909",
   "metadata": {},
   "outputs": [],
   "source": [
    " "
   ]
  }
 ],
 "metadata": {
  "kernelspec": {
   "display_name": "Python 3 (ipykernel)",
   "language": "python",
   "name": "python3"
  },
  "language_info": {
   "codemirror_mode": {
    "name": "ipython",
    "version": 3
   },
   "file_extension": ".py",
   "mimetype": "text/x-python",
   "name": "python",
   "nbconvert_exporter": "python",
   "pygments_lexer": "ipython3",
   "version": "3.10.12"
  }
 },
 "nbformat": 4,
 "nbformat_minor": 5
}
