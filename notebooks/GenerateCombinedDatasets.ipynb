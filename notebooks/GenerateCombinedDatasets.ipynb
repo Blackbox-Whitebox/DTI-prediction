{
 "cells": [
  {
   "cell_type": "code",
   "execution_count": 1,
   "id": "962d0d22",
   "metadata": {},
   "outputs": [],
   "source": [
    "import pandas as pd"
   ]
  },
  {
   "cell_type": "code",
   "execution_count": 5,
   "id": "ef0b2c79",
   "metadata": {},
   "outputs": [],
   "source": [
    "davis = pd.read_csv(\"davis_full.csv\")\n",
    "kiba = pd.read_csv(\"kiba_full.csv\")\n",
    "bindingdb = pd.read_csv(\"bindingdb_full.csv\")\n",
    "biosnap_train = pd.read_csv(\"biosnap_train.csv\")\n",
    "biosnap_test = pd.read_csv(\"biosnap_test.csv\")"
   ]
  },
  {
   "cell_type": "code",
   "execution_count": 30,
   "id": "71561af1",
   "metadata": {},
   "outputs": [],
   "source": [
    "combined_drugs = pd.concat([davis[\"Drug\"], kiba[\"Drug\"], bindingdb[\"Drug\"], biosnap_train[\"Drug\"], biosnap_test[\"Drug\"]], axis=0)"
   ]
  },
  {
   "cell_type": "code",
   "execution_count": 37,
   "id": "938df38f",
   "metadata": {},
   "outputs": [],
   "source": [
    "combined_drugs = combined_drugs.unique()"
   ]
  },
  {
   "cell_type": "code",
   "execution_count": 38,
   "id": "0e1b7682",
   "metadata": {},
   "outputs": [],
   "source": [
    "combined_targets = pd.concat([davis[\"Target\"], kiba[\"Target\"], bindingdb[\"Target\"], biosnap_train[\"Target\"], biosnap_test[\"Target\"]], axis=0)"
   ]
  },
  {
   "cell_type": "code",
   "execution_count": 39,
   "id": "4e5e5a83",
   "metadata": {},
   "outputs": [],
   "source": [
    "combined_targets = combined_targets.unique()"
   ]
  },
  {
   "cell_type": "code",
   "execution_count": 41,
   "id": "862d4dcf",
   "metadata": {},
   "outputs": [
    {
     "data": {
      "text/plain": [
       "(3337,)"
      ]
     },
     "execution_count": 41,
     "metadata": {},
     "output_type": "execute_result"
    }
   ],
   "source": [
    "combined_targets"
   ]
  },
  {
   "cell_type": "code",
   "execution_count": 43,
   "id": "0c0a42b9",
   "metadata": {},
   "outputs": [],
   "source": [
    "combined_drugs = {\n",
    "    \"drugs\": combined_drugs.tolist()\n",
    "}\n",
    "\n",
    "combined_targets = {\n",
    "    \"targets\": combined_targets.tolist()\n",
    "}"
   ]
  },
  {
   "cell_type": "code",
   "execution_count": 45,
   "id": "d2720d50",
   "metadata": {},
   "outputs": [],
   "source": [
    "combined_drugs = pd.DataFrame(combined_drugs)\n",
    "combined_targets = pd.DataFrame(combined_targets)"
   ]
  },
  {
   "cell_type": "code",
   "execution_count": 46,
   "id": "0b01d1c7",
   "metadata": {},
   "outputs": [],
   "source": [
    "combined_drugs.to_csv(\"generative_pretraining_drugs.csv\")\n",
    "combined_targets.to_csv(\"generative_pretraining_targets.csv\")"
   ]
  },
  {
   "cell_type": "code",
   "execution_count": 50,
   "id": "d3fb5f46",
   "metadata": {},
   "outputs": [],
   "source": [
    "davis_train = pd.read_csv(\"davis_train.csv\")\n",
    "davis_test = pd.read_csv(\"davis_test.csv\")\n",
    "\n",
    "kiba_train = pd.read_csv(\"kiba_train.csv\")\n",
    "kiba_test = pd.read_csv(\"kiba_test.csv\")\n",
    "\n",
    "bindingdb_train = pd.read_csv(\"bindingdb_train.csv\")\n",
    "bindingdb_test = pd.read_csv(\"bindingdb_test.csv\")\n",
    "\n",
    "biosnap_train = pd.read_csv(\"biosnap_train.csv\")\n",
    "biosnap_test = pd.read_csv(\"biosnap_test.csv\")"
   ]
  },
  {
   "cell_type": "code",
   "execution_count": 51,
   "id": "3f30c94d",
   "metadata": {},
   "outputs": [],
   "source": [
    "davis_train = davis_train[[\"Drug\", \"Target\", \"Y\"]]\n",
    "davis_test = davis_test[[\"Drug\", \"Target\", \"Y\"]]\n",
    "\n",
    "kiba_train = kiba_train[[\"Drug\", \"Target\", \"Y\"]]\n",
    "kiba_test = kiba_test[[\"Drug\", \"Target\", \"Y\"]]\n",
    "\n",
    "bindingdb_train = bindingdb_train[[\"Drug\", \"Target\", \"Y\"]]\n",
    "bindingdb_test = bindingdb_test[[\"Drug\", \"Target\", \"Y\"]]\n",
    "\n",
    "biosnap_train = biosnap_train[[\"Drug\", \"Target\", \"Y\"]]\n",
    "biosnap_test = biosnap_test[[\"Drug\", \"Target\", \"Y\"]]"
   ]
  },
  {
   "cell_type": "code",
   "execution_count": 54,
   "id": "df7e9cda",
   "metadata": {},
   "outputs": [
    {
     "data": {
      "text/html": [
       "<div>\n",
       "<style scoped>\n",
       "    .dataframe tbody tr th:only-of-type {\n",
       "        vertical-align: middle;\n",
       "    }\n",
       "\n",
       "    .dataframe tbody tr th {\n",
       "        vertical-align: top;\n",
       "    }\n",
       "\n",
       "    .dataframe thead th {\n",
       "        text-align: right;\n",
       "    }\n",
       "</style>\n",
       "<table border=\"1\" class=\"dataframe\">\n",
       "  <thead>\n",
       "    <tr style=\"text-align: right;\">\n",
       "      <th></th>\n",
       "      <th>Drug</th>\n",
       "      <th>Target</th>\n",
       "      <th>Y</th>\n",
       "    </tr>\n",
       "  </thead>\n",
       "  <tbody>\n",
       "    <tr>\n",
       "      <th>0</th>\n",
       "      <td>COc1cc(N2CCC(N3CCN(C)CC3)CC2)ccc1Nc1ncc(Cl)c(N...</td>\n",
       "      <td>MASSGMADSANHLPFFFGNITREEAEDYLVQGGMSDGLYLLRQSRN...</td>\n",
       "      <td>0</td>\n",
       "    </tr>\n",
       "    <tr>\n",
       "      <th>1</th>\n",
       "      <td>CCN1CCN(Cc2ccc(NC(=O)Nc3ccc(Oc4cc(NC)ncn4)cc3)...</td>\n",
       "      <td>MPAGGRAGSLKDPDVAELFFKDDPEKLFSDLREIGHGSFGAVYFAR...</td>\n",
       "      <td>1</td>\n",
       "    </tr>\n",
       "    <tr>\n",
       "      <th>2</th>\n",
       "      <td>Cc1[nH]nc2ccc(-c3cncc(OCC(N)Cc4ccccc4)c3)cc12</td>\n",
       "      <td>MAVPPGHGPFSGFPGPQEHTQVLPDVRLLPRRLPLAFRDATSAPLR...</td>\n",
       "      <td>1</td>\n",
       "    </tr>\n",
       "    <tr>\n",
       "      <th>3</th>\n",
       "      <td>Cc1[nH]nc2ccc(-c3cncc(OCC(N)Cc4ccccc4)c3)cc12</td>\n",
       "      <td>MCTVVDPRIVRRYLLRRQLGQGAYGIVWKAVDRRTGEVVAIKKIFD...</td>\n",
       "      <td>1</td>\n",
       "    </tr>\n",
       "    <tr>\n",
       "      <th>4</th>\n",
       "      <td>CCN(CCO)CCCOc1ccc2c(Nc3cc(CC(=O)Nc4cccc(F)c4)[...</td>\n",
       "      <td>MAKATSGAAGLRLLLLLLLPLLGKVALGLYFSRDAYWEKLYVDQAA...</td>\n",
       "      <td>1</td>\n",
       "    </tr>\n",
       "    <tr>\n",
       "      <th>...</th>\n",
       "      <td>...</td>\n",
       "      <td>...</td>\n",
       "      <td>...</td>\n",
       "    </tr>\n",
       "    <tr>\n",
       "      <th>38337</th>\n",
       "      <td>COc1cc(Nc2c(C#N)cnc3cc(OCCCN4CCN(C)CC4)c(OC)cc...</td>\n",
       "      <td>MVIMSEFSADPAGQGQGQQKPLRVGFYDIERTLGKGNFAVVKLARH...</td>\n",
       "      <td>1</td>\n",
       "    </tr>\n",
       "    <tr>\n",
       "      <th>38338</th>\n",
       "      <td>O=C(NOCC1CC1)c1ccc(F)c(F)c1Nc1ccc(I)cc1Cl</td>\n",
       "      <td>MNKPITPSTYVRCLNVGLIRKLSDFIDPQEGWKKLAVAIKKPSGDD...</td>\n",
       "      <td>0</td>\n",
       "    </tr>\n",
       "    <tr>\n",
       "      <th>38339</th>\n",
       "      <td>Cc1nc(Nc2ncc(C(=O)Nc3c(C)cccc3Cl)s2)cc(N2CCN(C...</td>\n",
       "      <td>MASSSVPPATVSAATAGPGPGFGFASKTKKKHFVQQKVKVFRAADP...</td>\n",
       "      <td>0</td>\n",
       "    </tr>\n",
       "    <tr>\n",
       "      <th>38340</th>\n",
       "      <td>CCN1CCN(Cc2ccc(NC(=O)Nc3ccc(Oc4cc(NC)ncn4)cc3)...</td>\n",
       "      <td>MLGTGPAAATTAATTSSNVSVLQQFASGLKSRNEETRAKAAKELQH...</td>\n",
       "      <td>0</td>\n",
       "    </tr>\n",
       "    <tr>\n",
       "      <th>38341</th>\n",
       "      <td>C#Cc1cccc(Nc2ncnc3cc(OCCOC)c(OCCOC)cc23)c1</td>\n",
       "      <td>MDKYDVIKAIGQGAFGKAYLAKGKSDSKHCVIKEINFEKMPIQEKE...</td>\n",
       "      <td>0</td>\n",
       "    </tr>\n",
       "  </tbody>\n",
       "</table>\n",
       "<p>38342 rows × 3 columns</p>\n",
       "</div>"
      ],
      "text/plain": [
       "                                                    Drug  \\\n",
       "0      COc1cc(N2CCC(N3CCN(C)CC3)CC2)ccc1Nc1ncc(Cl)c(N...   \n",
       "1      CCN1CCN(Cc2ccc(NC(=O)Nc3ccc(Oc4cc(NC)ncn4)cc3)...   \n",
       "2          Cc1[nH]nc2ccc(-c3cncc(OCC(N)Cc4ccccc4)c3)cc12   \n",
       "3          Cc1[nH]nc2ccc(-c3cncc(OCC(N)Cc4ccccc4)c3)cc12   \n",
       "4      CCN(CCO)CCCOc1ccc2c(Nc3cc(CC(=O)Nc4cccc(F)c4)[...   \n",
       "...                                                  ...   \n",
       "38337  COc1cc(Nc2c(C#N)cnc3cc(OCCCN4CCN(C)CC4)c(OC)cc...   \n",
       "38338          O=C(NOCC1CC1)c1ccc(F)c(F)c1Nc1ccc(I)cc1Cl   \n",
       "38339  Cc1nc(Nc2ncc(C(=O)Nc3c(C)cccc3Cl)s2)cc(N2CCN(C...   \n",
       "38340  CCN1CCN(Cc2ccc(NC(=O)Nc3ccc(Oc4cc(NC)ncn4)cc3)...   \n",
       "38341         C#Cc1cccc(Nc2ncnc3cc(OCCOC)c(OCCOC)cc23)c1   \n",
       "\n",
       "                                                  Target  Y  \n",
       "0      MASSGMADSANHLPFFFGNITREEAEDYLVQGGMSDGLYLLRQSRN...  0  \n",
       "1      MPAGGRAGSLKDPDVAELFFKDDPEKLFSDLREIGHGSFGAVYFAR...  1  \n",
       "2      MAVPPGHGPFSGFPGPQEHTQVLPDVRLLPRRLPLAFRDATSAPLR...  1  \n",
       "3      MCTVVDPRIVRRYLLRRQLGQGAYGIVWKAVDRRTGEVVAIKKIFD...  1  \n",
       "4      MAKATSGAAGLRLLLLLLLPLLGKVALGLYFSRDAYWEKLYVDQAA...  1  \n",
       "...                                                  ... ..  \n",
       "38337  MVIMSEFSADPAGQGQGQQKPLRVGFYDIERTLGKGNFAVVKLARH...  1  \n",
       "38338  MNKPITPSTYVRCLNVGLIRKLSDFIDPQEGWKKLAVAIKKPSGDD...  0  \n",
       "38339  MASSSVPPATVSAATAGPGPGFGFASKTKKKHFVQQKVKVFRAADP...  0  \n",
       "38340  MLGTGPAAATTAATTSSNVSVLQQFASGLKSRNEETRAKAAKELQH...  0  \n",
       "38341  MDKYDVIKAIGQGAFGKAYLAKGKSDSKHCVIKEINFEKMPIQEKE...  0  \n",
       "\n",
       "[38342 rows x 3 columns]"
      ]
     },
     "execution_count": 54,
     "metadata": {},
     "output_type": "execute_result"
    }
   ],
   "source": [
    "davis_train"
   ]
  },
  {
   "cell_type": "code",
   "execution_count": 55,
   "id": "ee24bc5e",
   "metadata": {},
   "outputs": [],
   "source": [
    "train_df = pd.concat([davis_train, kiba_train, bindingdb_train, biosnap_train])\n",
    "test_df = pd.concat([davis_test, kiba_test, bindingdb_test, biosnap_test])"
   ]
  },
  {
   "cell_type": "code",
   "execution_count": 59,
   "id": "4191d723",
   "metadata": {},
   "outputs": [
    {
     "data": {
      "text/plain": [
       "280577"
      ]
     },
     "execution_count": 59,
     "metadata": {},
     "output_type": "execute_result"
    }
   ],
   "source": [
    "len(train_df)"
   ]
  },
  {
   "cell_type": "code",
   "execution_count": 60,
   "id": "f2aebf35",
   "metadata": {},
   "outputs": [],
   "source": [
    "train_df.to_csv(\"combined_train.csv\")\n",
    "test_df.to_csv(\"combined_test.csv\")"
   ]
  }
 ],
 "metadata": {
  "kernelspec": {
   "display_name": "Python 3 (ipykernel)",
   "language": "python",
   "name": "python3"
  },
  "language_info": {
   "codemirror_mode": {
    "name": "ipython",
    "version": 3
   },
   "file_extension": ".py",
   "mimetype": "text/x-python",
   "name": "python",
   "nbconvert_exporter": "python",
   "pygments_lexer": "ipython3",
   "version": "3.10.12"
  }
 },
 "nbformat": 4,
 "nbformat_minor": 5
}
